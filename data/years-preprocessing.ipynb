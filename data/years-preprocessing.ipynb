{
 "cells": [
  {
   "cell_type": "code",
   "execution_count": 1,
   "metadata": {
    "button": false,
    "collapsed": true,
    "deletable": true,
    "new_sheet": false,
    "run_control": {
     "read_only": false
    }
   },
   "outputs": [],
   "source": [
    "import numpy as np"
   ]
  },
  {
   "cell_type": "code",
   "execution_count": 2,
   "metadata": {
    "button": false,
    "collapsed": true,
    "deletable": true,
    "new_sheet": false,
    "run_control": {
     "read_only": false
    }
   },
   "outputs": [],
   "source": [
    "data = np.loadtxt(\"YearPredictionMSD.txt\", delimiter=',')"
   ]
  },
  {
   "cell_type": "code",
   "execution_count": 3,
   "metadata": {
    "button": false,
    "collapsed": false,
    "deletable": true,
    "new_sheet": false,
    "run_control": {
     "read_only": false
    }
   },
   "outputs": [
    {
     "data": {
      "text/plain": [
       "2001.0"
      ]
     },
     "execution_count": 3,
     "metadata": {},
     "output_type": "execute_result"
    }
   ],
   "source": [
    "data[0,0]"
   ]
  },
  {
   "cell_type": "code",
   "execution_count": 4,
   "metadata": {
    "button": false,
    "collapsed": false,
    "deletable": true,
    "new_sheet": false,
    "run_control": {
     "read_only": false
    }
   },
   "outputs": [
    {
     "data": {
      "text/plain": [
       "(515345,)"
      ]
     },
     "execution_count": 4,
     "metadata": {},
     "output_type": "execute_result"
    }
   ],
   "source": [
    "b  = data[:,0]\n",
    "b.shape"
   ]
  },
  {
   "cell_type": "code",
   "execution_count": 5,
   "metadata": {
    "button": false,
    "collapsed": false,
    "deletable": true,
    "new_sheet": false,
    "run_control": {
     "read_only": false
    }
   },
   "outputs": [
    {
     "data": {
      "text/plain": [
       "(515345, 90)"
      ]
     },
     "execution_count": 5,
     "metadata": {},
     "output_type": "execute_result"
    }
   ],
   "source": [
    "A = data[:,1:data.shape[1]+1]\n",
    "A.shape"
   ]
  },
  {
   "cell_type": "markdown",
   "metadata": {
    "button": false,
    "deletable": true,
    "new_sheet": false,
    "run_control": {
     "read_only": false
    }
   },
   "source": [
    "Currently is in the form $[b,A]$ but want it as $[A,b]$."
   ]
  },
  {
   "cell_type": "code",
   "execution_count": 6,
   "metadata": {
    "button": false,
    "collapsed": false,
    "deletable": true,
    "new_sheet": false,
    "run_control": {
     "read_only": false
    }
   },
   "outputs": [
    {
     "data": {
      "text/plain": [
       "(515345,)"
      ]
     },
     "execution_count": 6,
     "metadata": {},
     "output_type": "execute_result"
    }
   ],
   "source": [
    "b.shape"
   ]
  },
  {
   "cell_type": "code",
   "execution_count": 7,
   "metadata": {
    "button": false,
    "collapsed": false,
    "deletable": true,
    "new_sheet": false,
    "run_control": {
     "read_only": false
    }
   },
   "outputs": [
    {
     "data": {
      "text/plain": [
       "(515345, 90)"
      ]
     },
     "execution_count": 7,
     "metadata": {},
     "output_type": "execute_result"
    }
   ],
   "source": [
    "A.shape"
   ]
  },
  {
   "cell_type": "code",
   "execution_count": 8,
   "metadata": {
    "button": false,
    "collapsed": true,
    "deletable": true,
    "new_sheet": false,
    "run_control": {
     "read_only": false
    }
   },
   "outputs": [],
   "source": [
    "new_data = np.column_stack((A,b))"
   ]
  },
  {
   "cell_type": "code",
   "execution_count": 9,
   "metadata": {
    "button": false,
    "collapsed": false,
    "deletable": true,
    "new_sheet": false,
    "run_control": {
     "read_only": false
    }
   },
   "outputs": [
    {
     "data": {
      "text/plain": [
       "(515345, 91)"
      ]
     },
     "execution_count": 9,
     "metadata": {},
     "output_type": "execute_result"
    }
   ],
   "source": [
    "new_data.shape"
   ]
  },
  {
   "cell_type": "code",
   "execution_count": 10,
   "metadata": {
    "button": false,
    "collapsed": true,
    "deletable": true,
    "new_sheet": false,
    "run_control": {
     "read_only": false
    }
   },
   "outputs": [],
   "source": [
    "np.savetxt(\"YearPredictionsMSD.csv\", new_data)"
   ]
  },
  {
   "cell_type": "code",
   "execution_count": 13,
   "metadata": {
    "button": false,
    "collapsed": false,
    "deletable": true,
    "new_sheet": false,
    "run_control": {
     "read_only": false
    }
   },
   "outputs": [
    {
     "data": {
      "text/plain": [
       "2001.0"
      ]
     },
     "execution_count": 13,
     "metadata": {},
     "output_type": "execute_result"
    }
   ],
   "source": [
    "new_data[0,90]"
   ]
  },
  {
   "cell_type": "code",
   "execution_count": 12,
   "metadata": {
    "button": false,
    "collapsed": false,
    "deletable": true,
    "new_sheet": false,
    "run_control": {
     "read_only": false
    },
    "scrolled": true
   },
   "outputs": [
    {
     "data": {
      "text/plain": [
       "array([  4.99435700e+01,   2.14711400e+01,   7.30775000e+01,\n",
       "         8.74861000e+00,  -1.74062800e+01,  -1.30990500e+01,\n",
       "        -2.50120200e+01,  -1.22325700e+01,   7.83089000e+00,\n",
       "        -2.46783000e+00,   3.32136000e+00,  -2.31521000e+00,\n",
       "         1.02055600e+01,   6.11109130e+02,   9.51089600e+02,\n",
       "         6.98114280e+02,   4.08984850e+02,   3.83709120e+02,\n",
       "         3.26515120e+02,   2.38113270e+02,   2.51424140e+02,\n",
       "         1.87173510e+02,   1.00426520e+02,   1.79194980e+02,\n",
       "        -8.41558000e+00,  -3.17870380e+02,   9.58626600e+01,\n",
       "         4.81025900e+01,  -9.56630300e+01,  -1.80621500e+01,\n",
       "         1.96984000e+00,   3.44243800e+01,   1.17267000e+01,\n",
       "         1.36790000e+00,   7.79444000e+00,  -3.69940000e-01,\n",
       "        -1.33678520e+02,  -8.32616500e+01,  -3.72976500e+01,\n",
       "         7.30466700e+01,  -3.73668400e+01,  -3.13853000e+00,\n",
       "        -2.42153100e+01,  -1.32306600e+01,   1.59380900e+01,\n",
       "        -1.86047800e+01,   8.21547900e+01,   2.40579800e+02,\n",
       "        -1.02940700e+01,   3.15843100e+01,  -2.53818700e+01,\n",
       "        -3.90772000e+00,   1.32925800e+01,   4.15506000e+01,\n",
       "        -7.26272000e+00,  -2.10086300e+01,   1.05508480e+02,\n",
       "         6.42985600e+01,   2.60848100e+01,  -4.45911000e+01,\n",
       "        -8.30657000e+00,   7.93706000e+00,  -1.07366000e+01,\n",
       "        -9.54476600e+01,  -8.20330700e+01,  -3.55919400e+01,\n",
       "         4.69525000e+00,   7.09562600e+01,   2.80913900e+01,\n",
       "         6.02015000e+00,  -3.71376700e+01,  -4.11245000e+01,\n",
       "        -8.40816000e+00,   7.19877000e+00,  -8.60176000e+00,\n",
       "        -5.90857000e+00,  -1.23243700e+01,   1.46873400e+01,\n",
       "        -5.43212500e+01,   4.01478600e+01,   1.30162000e+01,\n",
       "        -5.44054800e+01,   5.89936700e+01,   1.53734400e+01,\n",
       "         1.11144000e+00,  -2.30879300e+01,   6.84079500e+01,\n",
       "        -1.82223000e+00,  -2.74634800e+01,   2.26327000e+00,\n",
       "         2.00100000e+03])"
      ]
     },
     "execution_count": 12,
     "metadata": {},
     "output_type": "execute_result"
    }
   ],
   "source": [
    "new_data[0,:]"
   ]
  },
  {
   "cell_type": "code",
   "execution_count": null,
   "metadata": {
    "button": false,
    "collapsed": true,
    "deletable": true,
    "new_sheet": false,
    "run_control": {
     "read_only": false
    }
   },
   "outputs": [],
   "source": []
  }
 ],
 "metadata": {
  "kernelspec": {
   "display_name": "Python 3",
   "language": "python",
   "name": "python3"
  },
  "language_info": {
   "codemirror_mode": {
    "name": "ipython",
    "version": 3
   },
   "file_extension": ".py",
   "mimetype": "text/x-python",
   "name": "python",
   "nbconvert_exporter": "python",
   "pygments_lexer": "ipython3",
   "version": "3.5.0"
  }
 },
 "nbformat": 4,
 "nbformat_minor": 2
}
